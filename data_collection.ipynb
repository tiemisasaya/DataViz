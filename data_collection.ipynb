{
 "cells": [
  {
   "cell_type": "code",
   "execution_count": 90,
   "id": "homeless-mauritius",
   "metadata": {},
   "outputs": [],
   "source": [
    "import requests\n",
    "import pandas as pd\n",
    "import numpy as np\n",
    "import matplotlib\n",
    "import json\n",
    "from datetime import datetime\n",
    "from pandas import DataFrame"
   ]
  },
  {
   "cell_type": "code",
   "execution_count": 10,
   "id": "dutch-corporation",
   "metadata": {},
   "outputs": [],
   "source": [
    "## 50 pages | 20 entries per page"
   ]
  },
  {
   "cell_type": "code",
   "execution_count": 50,
   "id": "promotional-moisture",
   "metadata": {},
   "outputs": [
    {
     "data": {
      "text/plain": [
       "list"
      ]
     },
     "execution_count": 50,
     "metadata": {},
     "output_type": "execute_result"
    }
   ],
   "source": [
    "type(names)"
   ]
  },
  {
   "cell_type": "code",
   "execution_count": 84,
   "id": "legitimate-hollow",
   "metadata": {},
   "outputs": [],
   "source": [
    "page=range(1,51)\n",
    "entry=range(1,20)\n",
    "#entry=0\n",
    "#index=list()\n",
    "names=list()\n",
    "genders=list()\n",
    "warnings=list()"
   ]
  },
  {
   "cell_type": "code",
   "execution_count": 7,
   "id": "frequent-element",
   "metadata": {},
   "outputs": [],
   "source": [
    "df = pd.DataFrame(data=a)"
   ]
  },
  {
   "cell_type": "code",
   "execution_count": 85,
   "id": "posted-museum",
   "metadata": {},
   "outputs": [
    {
     "ename": "IndexError",
     "evalue": "list index out of range",
     "output_type": "error",
     "traceback": [
      "\u001b[0;31m---------------------------------------------------------------------------\u001b[0m",
      "\u001b[0;31mIndexError\u001b[0m                                Traceback (most recent call last)",
      "\u001b[0;32m<ipython-input-85-05031b2c258d>\u001b[0m in \u001b[0;36m<module>\u001b[0;34m\u001b[0m\n\u001b[1;32m      6\u001b[0m    \u001b[0;31m# print(data['page'])\u001b[0m\u001b[0;34m\u001b[0m\u001b[0;34m\u001b[0m\u001b[0;34m\u001b[0m\u001b[0m\n\u001b[1;32m      7\u001b[0m     \u001b[0;32mfor\u001b[0m \u001b[0mb\u001b[0m \u001b[0;32min\u001b[0m \u001b[0mentry\u001b[0m\u001b[0;34m:\u001b[0m\u001b[0;34m\u001b[0m\u001b[0;34m\u001b[0m\u001b[0m\n\u001b[0;32m----> 8\u001b[0;31m         \u001b[0mnames\u001b[0m\u001b[0;34m.\u001b[0m\u001b[0mappend\u001b[0m\u001b[0;34m(\u001b[0m\u001b[0mdata\u001b[0m\u001b[0;34m[\u001b[0m\u001b[0;34m'items'\u001b[0m\u001b[0;34m]\u001b[0m\u001b[0;34m[\u001b[0m\u001b[0mb\u001b[0m\u001b[0;34m]\u001b[0m\u001b[0;34m[\u001b[0m\u001b[0;34m'title'\u001b[0m\u001b[0;34m]\u001b[0m\u001b[0;34m)\u001b[0m\u001b[0;34m\u001b[0m\u001b[0;34m\u001b[0m\u001b[0m\n\u001b[0m\u001b[1;32m      9\u001b[0m         \u001b[0mgenders\u001b[0m\u001b[0;34m.\u001b[0m\u001b[0mappend\u001b[0m\u001b[0;34m(\u001b[0m\u001b[0mdata\u001b[0m\u001b[0;34m[\u001b[0m\u001b[0;34m'items'\u001b[0m\u001b[0;34m]\u001b[0m\u001b[0;34m[\u001b[0m\u001b[0mb\u001b[0m\u001b[0;34m]\u001b[0m\u001b[0;34m[\u001b[0m\u001b[0;34m'sex'\u001b[0m\u001b[0;34m]\u001b[0m\u001b[0;34m)\u001b[0m\u001b[0;34m\u001b[0m\u001b[0;34m\u001b[0m\u001b[0m\n\u001b[1;32m     10\u001b[0m         \u001b[0mwarnings\u001b[0m\u001b[0;34m.\u001b[0m\u001b[0mappend\u001b[0m\u001b[0;34m(\u001b[0m\u001b[0mdata\u001b[0m\u001b[0;34m[\u001b[0m\u001b[0;34m'items'\u001b[0m\u001b[0;34m]\u001b[0m\u001b[0;34m[\u001b[0m\u001b[0mb\u001b[0m\u001b[0;34m]\u001b[0m\u001b[0;34m[\u001b[0m\u001b[0;34m'warning_message'\u001b[0m\u001b[0;34m]\u001b[0m\u001b[0;34m)\u001b[0m\u001b[0;34m\u001b[0m\u001b[0;34m\u001b[0m\u001b[0m\n",
      "\u001b[0;31mIndexError\u001b[0m: list index out of range"
     ]
    }
   ],
   "source": [
    "data = json.loads(response.content)\n",
    "\n",
    "for a in page:\n",
    "    response = requests.get('https://api.fbi.gov/wanted/v1/list', params={'page': a})\n",
    "    data = json.loads(response.content)\n",
    "   # print(data['page'])\n",
    "    for b in entry:\n",
    "        names.append(data['items'][b]['title'])\n",
    "        genders.append(data['items'][b]['sex'])\n",
    "        warnings.append(data['items'][b]['warning_message'])"
   ]
  },
  {
   "cell_type": "code",
   "execution_count": 138,
   "id": "minor-symphony",
   "metadata": {},
   "outputs": [],
   "source": [
    "df = DataFrame(names, columns=['Name'])"
   ]
  },
  {
   "cell_type": "code",
   "execution_count": 139,
   "id": "intensive-clark",
   "metadata": {},
   "outputs": [],
   "source": [
    "df['Gender']=genders"
   ]
  },
  {
   "cell_type": "code",
   "execution_count": 140,
   "id": "convertible-piece",
   "metadata": {},
   "outputs": [],
   "source": [
    "df['Warning']=warnings"
   ]
  },
  {
   "cell_type": "code",
   "execution_count": 141,
   "id": "bulgarian-weekend",
   "metadata": {},
   "outputs": [
    {
     "data": {
      "text/html": [
       "<div>\n",
       "<style scoped>\n",
       "    .dataframe tbody tr th:only-of-type {\n",
       "        vertical-align: middle;\n",
       "    }\n",
       "\n",
       "    .dataframe tbody tr th {\n",
       "        vertical-align: top;\n",
       "    }\n",
       "\n",
       "    .dataframe thead th {\n",
       "        text-align: right;\n",
       "    }\n",
       "</style>\n",
       "<table border=\"1\" class=\"dataframe\">\n",
       "  <thead>\n",
       "    <tr style=\"text-align: right;\">\n",
       "      <th></th>\n",
       "      <th>Name</th>\n",
       "      <th>Gender</th>\n",
       "      <th>Warning</th>\n",
       "    </tr>\n",
       "  </thead>\n",
       "  <tbody>\n",
       "    <tr>\n",
       "      <th>count</th>\n",
       "      <td>946</td>\n",
       "      <td>773</td>\n",
       "      <td>292</td>\n",
       "    </tr>\n",
       "    <tr>\n",
       "      <th>unique</th>\n",
       "      <td>921</td>\n",
       "      <td>4</td>\n",
       "      <td>29</td>\n",
       "    </tr>\n",
       "    <tr>\n",
       "      <th>top</th>\n",
       "      <td>UNKNOWN SUSPECT</td>\n",
       "      <td>Male</td>\n",
       "      <td>SHOULD BE CONSIDERED ARMED AND DANGEROUS</td>\n",
       "    </tr>\n",
       "    <tr>\n",
       "      <th>freq</th>\n",
       "      <td>10</td>\n",
       "      <td>519</td>\n",
       "      <td>159</td>\n",
       "    </tr>\n",
       "  </tbody>\n",
       "</table>\n",
       "</div>"
      ],
      "text/plain": [
       "                   Name Gender                                   Warning\n",
       "count               946    773                                       292\n",
       "unique              921      4                                        29\n",
       "top     UNKNOWN SUSPECT   Male  SHOULD BE CONSIDERED ARMED AND DANGEROUS\n",
       "freq                 10    519                                       159"
      ]
     },
     "execution_count": 141,
     "metadata": {},
     "output_type": "execute_result"
    }
   ],
   "source": [
    "df.describe()"
   ]
  },
  {
   "cell_type": "code",
   "execution_count": 143,
   "id": "applicable-grenada",
   "metadata": {},
   "outputs": [
    {
     "data": {
      "text/html": [
       "<div>\n",
       "<style scoped>\n",
       "    .dataframe tbody tr th:only-of-type {\n",
       "        vertical-align: middle;\n",
       "    }\n",
       "\n",
       "    .dataframe tbody tr th {\n",
       "        vertical-align: top;\n",
       "    }\n",
       "\n",
       "    .dataframe thead th {\n",
       "        text-align: right;\n",
       "    }\n",
       "</style>\n",
       "<table border=\"1\" class=\"dataframe\">\n",
       "  <thead>\n",
       "    <tr style=\"text-align: right;\">\n",
       "      <th></th>\n",
       "      <th>Name</th>\n",
       "      <th>Gender</th>\n",
       "      <th>Warning</th>\n",
       "    </tr>\n",
       "  </thead>\n",
       "  <tbody>\n",
       "    <tr>\n",
       "      <th>0</th>\n",
       "      <td>KARLA RODRIGUEZ</td>\n",
       "      <td>Female</td>\n",
       "      <td>None</td>\n",
       "    </tr>\n",
       "    <tr>\n",
       "      <th>1</th>\n",
       "      <td>DEVONTAY DAVOUCCI ANDERSON</td>\n",
       "      <td>Male</td>\n",
       "      <td>SHOULD BE CONSIDERED ARMED AND DANGEROUS</td>\n",
       "    </tr>\n",
       "    <tr>\n",
       "      <th>2</th>\n",
       "      <td>JORGE ROBERTO MONTANO PELLEGRINI</td>\n",
       "      <td>Male</td>\n",
       "      <td>None</td>\n",
       "    </tr>\n",
       "    <tr>\n",
       "      <th>3</th>\n",
       "      <td>STRUCTURE FIRE - ARSON</td>\n",
       "      <td>None</td>\n",
       "      <td>None</td>\n",
       "    </tr>\n",
       "    <tr>\n",
       "      <th>4</th>\n",
       "      <td>ROBERT LEE HOURIHAN - PALMYRA, VIRGINIA</td>\n",
       "      <td>Male</td>\n",
       "      <td>None</td>\n",
       "    </tr>\n",
       "    <tr>\n",
       "      <th>5</th>\n",
       "      <td>JOHN DOE - DOSWELL, VIRGINIA</td>\n",
       "      <td>Male</td>\n",
       "      <td>None</td>\n",
       "    </tr>\n",
       "    <tr>\n",
       "      <th>6</th>\n",
       "      <td>LAMAR JAMAL PERKINS</td>\n",
       "      <td>Male</td>\n",
       "      <td>SHOULD BE CONSIDERED ARMED AND DANGEROUS</td>\n",
       "    </tr>\n",
       "    <tr>\n",
       "      <th>7</th>\n",
       "      <td>JAMIE LYNETTE YAZZIE</td>\n",
       "      <td>Female</td>\n",
       "      <td>None</td>\n",
       "    </tr>\n",
       "    <tr>\n",
       "      <th>8</th>\n",
       "      <td>RYAN BRADEN CHICOVSKY</td>\n",
       "      <td>Male</td>\n",
       "      <td>None</td>\n",
       "    </tr>\n",
       "    <tr>\n",
       "      <th>9</th>\n",
       "      <td>CHURCH ARSON</td>\n",
       "      <td>None</td>\n",
       "      <td>None</td>\n",
       "    </tr>\n",
       "  </tbody>\n",
       "</table>\n",
       "</div>"
      ],
      "text/plain": [
       "                                      Name  Gender  \\\n",
       "0                          KARLA RODRIGUEZ  Female   \n",
       "1               DEVONTAY DAVOUCCI ANDERSON    Male   \n",
       "2         JORGE ROBERTO MONTANO PELLEGRINI    Male   \n",
       "3                   STRUCTURE FIRE - ARSON    None   \n",
       "4  ROBERT LEE HOURIHAN - PALMYRA, VIRGINIA    Male   \n",
       "5             JOHN DOE - DOSWELL, VIRGINIA    Male   \n",
       "6                      LAMAR JAMAL PERKINS    Male   \n",
       "7                     JAMIE LYNETTE YAZZIE  Female   \n",
       "8                    RYAN BRADEN CHICOVSKY    Male   \n",
       "9                             CHURCH ARSON    None   \n",
       "\n",
       "                                    Warning  \n",
       "0                                      None  \n",
       "1  SHOULD BE CONSIDERED ARMED AND DANGEROUS  \n",
       "2                                      None  \n",
       "3                                      None  \n",
       "4                                      None  \n",
       "5                                      None  \n",
       "6  SHOULD BE CONSIDERED ARMED AND DANGEROUS  \n",
       "7                                      None  \n",
       "8                                      None  \n",
       "9                                      None  "
      ]
     },
     "execution_count": 143,
     "metadata": {},
     "output_type": "execute_result"
    }
   ],
   "source": [
    "df.head(10)"
   ]
  },
  {
   "cell_type": "code",
   "execution_count": 146,
   "id": "remarkable-browser",
   "metadata": {},
   "outputs": [
    {
     "data": {
      "text/plain": [
       "(946, 3)"
      ]
     },
     "execution_count": 146,
     "metadata": {},
     "output_type": "execute_result"
    }
   ],
   "source": [
    "df.shape"
   ]
  },
  {
   "cell_type": "code",
   "execution_count": 148,
   "id": "olive-folks",
   "metadata": {},
   "outputs": [
    {
     "data": {
      "text/html": [
       "<div>\n",
       "<style scoped>\n",
       "    .dataframe tbody tr th:only-of-type {\n",
       "        vertical-align: middle;\n",
       "    }\n",
       "\n",
       "    .dataframe tbody tr th {\n",
       "        vertical-align: top;\n",
       "    }\n",
       "\n",
       "    .dataframe thead th {\n",
       "        text-align: right;\n",
       "    }\n",
       "</style>\n",
       "<table border=\"1\" class=\"dataframe\">\n",
       "  <thead>\n",
       "    <tr style=\"text-align: right;\">\n",
       "      <th></th>\n",
       "      <th>Name</th>\n",
       "      <th>Gender</th>\n",
       "      <th>Warning</th>\n",
       "    </tr>\n",
       "  </thead>\n",
       "  <tbody>\n",
       "    <tr>\n",
       "      <th>count</th>\n",
       "      <td>946</td>\n",
       "      <td>773</td>\n",
       "      <td>292</td>\n",
       "    </tr>\n",
       "    <tr>\n",
       "      <th>unique</th>\n",
       "      <td>921</td>\n",
       "      <td>4</td>\n",
       "      <td>29</td>\n",
       "    </tr>\n",
       "    <tr>\n",
       "      <th>top</th>\n",
       "      <td>UNKNOWN SUSPECT</td>\n",
       "      <td>Male</td>\n",
       "      <td>SHOULD BE CONSIDERED ARMED AND DANGEROUS</td>\n",
       "    </tr>\n",
       "    <tr>\n",
       "      <th>freq</th>\n",
       "      <td>10</td>\n",
       "      <td>519</td>\n",
       "      <td>159</td>\n",
       "    </tr>\n",
       "  </tbody>\n",
       "</table>\n",
       "</div>"
      ],
      "text/plain": [
       "                   Name Gender                                   Warning\n",
       "count               946    773                                       292\n",
       "unique              921      4                                        29\n",
       "top     UNKNOWN SUSPECT   Male  SHOULD BE CONSIDERED ARMED AND DANGEROUS\n",
       "freq                 10    519                                       159"
      ]
     },
     "execution_count": 148,
     "metadata": {},
     "output_type": "execute_result"
    }
   ],
   "source": [
    "df.describe()"
   ]
  },
  {
   "cell_type": "code",
   "execution_count": 161,
   "id": "shaped-memorabilia",
   "metadata": {},
   "outputs": [],
   "source": [
    "df = df.dropna()"
   ]
  },
  {
   "cell_type": "code",
   "execution_count": 164,
   "id": "impressed-processor",
   "metadata": {},
   "outputs": [
    {
     "data": {
      "text/html": [
       "<div>\n",
       "<style scoped>\n",
       "    .dataframe tbody tr th:only-of-type {\n",
       "        vertical-align: middle;\n",
       "    }\n",
       "\n",
       "    .dataframe tbody tr th {\n",
       "        vertical-align: top;\n",
       "    }\n",
       "\n",
       "    .dataframe thead th {\n",
       "        text-align: right;\n",
       "    }\n",
       "</style>\n",
       "<table border=\"1\" class=\"dataframe\">\n",
       "  <thead>\n",
       "    <tr style=\"text-align: right;\">\n",
       "      <th></th>\n",
       "      <th>Name</th>\n",
       "      <th>Gender</th>\n",
       "      <th>Warning</th>\n",
       "    </tr>\n",
       "  </thead>\n",
       "  <tbody>\n",
       "    <tr>\n",
       "      <th>count</th>\n",
       "      <td>273</td>\n",
       "      <td>273</td>\n",
       "      <td>273</td>\n",
       "    </tr>\n",
       "    <tr>\n",
       "      <th>unique</th>\n",
       "      <td>271</td>\n",
       "      <td>3</td>\n",
       "      <td>25</td>\n",
       "    </tr>\n",
       "    <tr>\n",
       "      <th>top</th>\n",
       "      <td>UNKNOWN SUSPECT</td>\n",
       "      <td>Male</td>\n",
       "      <td>SHOULD BE CONSIDERED ARMED AND DANGEROUS</td>\n",
       "    </tr>\n",
       "    <tr>\n",
       "      <th>freq</th>\n",
       "      <td>2</td>\n",
       "      <td>251</td>\n",
       "      <td>147</td>\n",
       "    </tr>\n",
       "  </tbody>\n",
       "</table>\n",
       "</div>"
      ],
      "text/plain": [
       "                   Name Gender                                   Warning\n",
       "count               273    273                                       273\n",
       "unique              271      3                                        25\n",
       "top     UNKNOWN SUSPECT   Male  SHOULD BE CONSIDERED ARMED AND DANGEROUS\n",
       "freq                  2    251                                       147"
      ]
     },
     "execution_count": 164,
     "metadata": {},
     "output_type": "execute_result"
    }
   ],
   "source": [
    "df.describe()"
   ]
  },
  {
   "cell_type": "code",
   "execution_count": 166,
   "id": "informational-title",
   "metadata": {},
   "outputs": [],
   "source": [
    "df.to_csv('dataviz.csv')"
   ]
  },
  {
   "cell_type": "code",
   "execution_count": null,
   "id": "adaptive-procurement",
   "metadata": {},
   "outputs": [],
   "source": []
  }
 ],
 "metadata": {
  "kernelspec": {
   "display_name": "Python 3",
   "language": "python",
   "name": "python3"
  },
  "language_info": {
   "codemirror_mode": {
    "name": "ipython",
    "version": 3
   },
   "file_extension": ".py",
   "mimetype": "text/x-python",
   "name": "python",
   "nbconvert_exporter": "python",
   "pygments_lexer": "ipython3",
   "version": "3.9.1"
  }
 },
 "nbformat": 4,
 "nbformat_minor": 5
}
